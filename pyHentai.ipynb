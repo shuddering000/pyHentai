{
 "cells": [
  {
   "cell_type": "code",
   "execution_count": 4,
   "id": "596c960d",
   "metadata": {},
   "outputs": [],
   "source": [
    "import os, time\n",
    "import requests as rq\n",
    "from bs4 import BeautifulSoup as bs\n",
    "import random as rd\n",
    "my_headers = {\n",
    "        'user-agent': 'Mozilla/5.0 (Windows NT 10.0; Win64; x64) AppleWebKit/537.36 (KHTML, like Gecko) Chrome/98.0.4758.82 Safari/537.36'\n",
    "    }"
   ]
  },
  {
   "cell_type": "code",
   "execution_count": 2,
   "id": "e4dc6047",
   "metadata": {
    "scrolled": true
   },
   "outputs": [],
   "source": [
    "def downloadHentai(Language_of_God):\n",
    "    num = str(Language_of_God)\n",
    "    folderPath = num\n",
    "    fex = 'png'\n",
    "    \n",
    "    if not os.path.exists(folderPath):\n",
    "        os.makedirs(folderPath)\n",
    "        \n",
    "    url = f\"https://nhentai.to/g/{num}\"\n",
    "    r = rq.get(url, headers = my_headers)\n",
    "    soup = bs(r.text, 'lxml')\n",
    "    try:\n",
    "        if \"404\" in soup.select_one('div.code').get_text():\n",
    "            url = f\"https://nhentai.net/g/{num}\"\n",
    "            fex = 'jpg'\n",
    "        r = rq.get(url, headers = my_headers)\n",
    "        soup = bs(r.text, 'lxml')\n",
    "    except:\n",
    "        pass\n",
    "    \n",
    "    for c, i in enumerate(soup.select('div.thumb-container')):\n",
    "        link = i.select_one('img')['data-src']\n",
    "        os.system(f\"curl {link} -o {folderPath}/{c}.{fex}\")\n",
    "        time.sleep(rd.randint(1,3))\n",
    "        print(c, end=\" \")\n",
    "        \n",
    "    print(f\"Done {num}\")"
   ]
  },
  {
   "cell_type": "code",
   "execution_count": 5,
   "id": "524fcedf",
   "metadata": {
    "scrolled": true
   },
   "outputs": [
    {
     "name": "stdout",
     "output_type": "stream",
     "text": [
      "0 1 2 3 4 5 6 7 8 9 10 11 12 13 14 15 16 17 18 19 20 21 22 23 24 25 26 27 28 29 30 31 32 33 34 35 36 37 38 39 40 41 42 43 44 45 46 47 48 49 50 51 52 53 54 55 56 57 58 59 60 61 62 63 64 65 66 Done 380675\n"
     ]
    }
   ],
   "source": [
    "favorite = [380675]\n",
    "for ids in favorite:\n",
    "    downloadHentai(ids)\n",
    "    time.sleep(rd.randint(7,15))"
   ]
  }
 ],
 "metadata": {
  "kernelspec": {
   "display_name": "Python 3 (ipykernel)",
   "language": "python",
   "name": "python3"
  },
  "language_info": {
   "codemirror_mode": {
    "name": "ipython",
    "version": 3
   },
   "file_extension": ".py",
   "mimetype": "text/x-python",
   "name": "python",
   "nbconvert_exporter": "python",
   "pygments_lexer": "ipython3",
   "version": "3.9.7"
  }
 },
 "nbformat": 4,
 "nbformat_minor": 5
}
